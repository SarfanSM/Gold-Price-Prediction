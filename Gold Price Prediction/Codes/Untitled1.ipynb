{
 "cells": [
  {
   "cell_type": "code",
   "execution_count": 16,
   "id": "0d61a938",
   "metadata": {},
   "outputs": [],
   "source": [
    "import pickle\n",
    "from tkinter import *\n",
    "from PIL import ImageTk, Image\n",
    "from tkinter import messagebox\n",
    "from sklearn.tree import DecisionTreeClassifier"
   ]
  },
  {
   "cell_type": "code",
   "execution_count": 17,
   "id": "b2995b29",
   "metadata": {},
   "outputs": [],
   "source": [
    "with open('model.pkl','rb') as file:\n",
    "    clf=pickle.load(file)"
   ]
  },
  {
   "cell_type": "code",
   "execution_count": 18,
   "id": "0cab33db",
   "metadata": {},
   "outputs": [],
   "source": [
    "root =Tk()\n",
    "\n",
    "root.title(\"Record\")\n",
    "root.geometry(\"500x600\")\n",
    "root.configure(bg=\"lightyellow\")\n",
    "\n",
    "image = Image.open(\"C://Users//HP//Desktop//sarfan//IMG_4168.jpg\")\n",
    "resized_image = image.resize((600,700))\n",
    "\n",
    "photo= ImageTk.PhotoImage(resized_image)"
   ]
  },
  {
   "cell_type": "code",
   "execution_count": 19,
   "id": "da84bcf6",
   "metadata": {},
   "outputs": [],
   "source": [
    "image_label = Label(root, image=photo)\n",
    "image_label.place(x = 10, y = 10)\n",
    "\n",
    "label1= Label(root,text=\"SPX\",bg=\"white\",foreground=\"black\",\n",
    "             font=(\"Arial\",15,\"bold\"))\n",
    "label1.pack()\n",
    "\n",
    "entry1 = Entry(root,width=15,font=(\"Arial\",14),bg=\"gray\",fg=\"white\",borderwidth=3)\n",
    "entry1.pack(pady=5)\n",
    "\n",
    "label2= Label(root,text=\"USO\",bg=\"white\",foreground=\"black\",\n",
    "             font=(\"Arial\",15,\"bold\"))\n",
    "label2.pack()\n",
    "\n",
    "entry2 = Entry(root,width=15,font=(\"Arial\",14),bg=\"gray\",fg=\"white\",borderwidth=3)\n",
    "entry2.pack(pady=5)\n",
    "\n",
    "label3= Label(root,text=\"SLV\",bg=\"white\",foreground=\"black\",\n",
    "             font=(\"Arial\",15,\"bold\"))\n",
    "label3.pack()\n",
    "\n",
    "entry3 = Entry(root,width=15,font=(\"Arial\",14),bg=\"gray\",fg=\"white\",borderwidth=3)\n",
    "entry3.pack(pady=5)\n",
    "\n",
    "label4= Label(root,text=\"EURUSD\",bg=\"white\",foreground=\"black\",\n",
    "             font=(\"Arial\",15,\"bold\"))\n",
    "label4.pack()\n",
    "\n",
    "entry4 = Entry(root,width=15\n",
    "               ,font=(\"Arial\",14),bg=\"gray\",fg=\"white\",borderwidth=3)\n",
    "entry4.pack(pady=5)"
   ]
  },
  {
   "cell_type": "code",
   "execution_count": 20,
   "id": "7bcd76a4",
   "metadata": {},
   "outputs": [],
   "source": [
    "species_label= Label(root,text=\"\",bg=\"white\",foreground=\"black\",\n",
    "             font=(\"Arial\",15,\"bold\"))\n",
    "species_label.pack()\n",
    "\n",
    "about = Label(text=\" \\n Sharfan@gmail.com \\n Developer Info:Mohammed Sharfan. \\n Batch: CSD-18 \\n Predicting Current gold price\", font = \"arial 20 bold\")\n",
    "about.place(x = 1000, y = 10)"
   ]
  },
  {
   "cell_type": "code",
   "execution_count": 21,
   "id": "d4e0732f",
   "metadata": {},
   "outputs": [
    {
     "name": "stderr",
     "output_type": "stream",
     "text": [
      "C:\\Users\\HP\\AppData\\Roaming\\Python\\Python311\\site-packages\\sklearn\\base.py:465: UserWarning: X does not have valid feature names, but RandomForestRegressor was fitted with feature names\n",
      "  warnings.warn(\n"
     ]
    }
   ],
   "source": [
    "def insect():\n",
    "    a = float(entry1.get())\n",
    "    b = float(entry2.get())\n",
    "    c = float(entry3.get())\n",
    "    d = float(entry4.get())\n",
    "    pridiction = clf.predict([[a,b,c,d]])\n",
    "    messagebox.showinfo(\"Pridiction Value is:\",pridiction,parent=root)\n",
    "    \n",
    "my_button=Button(text=\"Add\",bg=\"lightgreen\",activebackground=\"blue\",\n",
    "                 borderwidth=3,font=(\"Arial\",11,\"bold\"),command=insect)\n",
    "my_button.pack(pady=10)\n",
    "root.mainloop()"
   ]
  },
  {
   "cell_type": "code",
   "execution_count": null,
   "id": "0fa2a9aa",
   "metadata": {},
   "outputs": [],
   "source": []
  }
 ],
 "metadata": {
  "kernelspec": {
   "display_name": "Python 3 (ipykernel)",
   "language": "python",
   "name": "python3"
  },
  "language_info": {
   "codemirror_mode": {
    "name": "ipython",
    "version": 3
   },
   "file_extension": ".py",
   "mimetype": "text/x-python",
   "name": "python",
   "nbconvert_exporter": "python",
   "pygments_lexer": "ipython3",
   "version": "3.11.5"
  }
 },
 "nbformat": 4,
 "nbformat_minor": 5
}
